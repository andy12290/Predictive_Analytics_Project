{
 "cells": [
  {
   "cell_type": "markdown",
   "metadata": {},
   "source": [
    "* Name: Aniket Kale\n",
    "* Predictive Analytics Project    "
   ]
  },
  {
   "cell_type": "code",
   "execution_count": 1,
   "metadata": {
    "collapsed": true
   },
   "outputs": [],
   "source": [
    "import pandas as pd\n",
    "import numpy as np"
   ]
  },
  {
   "cell_type": "code",
   "execution_count": 2,
   "metadata": {
    "collapsed": true
   },
   "outputs": [],
   "source": [
    "# file from last mission\n",
    "data = pd.read_csv(\"cleaned_data_2007\")"
   ]
  },
  {
   "cell_type": "code",
   "execution_count": 3,
   "metadata": {
    "collapsed": false
   },
   "outputs": [
    {
     "name": "stdout",
     "output_type": "stream",
     "text": [
      "<class 'pandas.core.frame.DataFrame'>\n",
      "RangeIndex: 39177 entries, 0 to 39176\n",
      "Data columns (total 37 columns):\n",
      "loan_amnt                              39177 non-null float64\n",
      "installment                            39177 non-null float64\n",
      "annual_inc                             39177 non-null float64\n",
      "loan_status                            39177 non-null int64\n",
      "dti                                    39177 non-null float64\n",
      "delinq_2yrs                            39177 non-null float64\n",
      "inq_last_6mths                         39177 non-null float64\n",
      "open_acc                               39177 non-null float64\n",
      "pub_rec                                39177 non-null float64\n",
      "revol_bal                              39177 non-null float64\n",
      "revol_util                             39177 non-null float64\n",
      "total_acc                              39177 non-null float64\n",
      "fico_avg                               39177 non-null float64\n",
      "home_ownership_MORTGAGE                39177 non-null int64\n",
      "home_ownership_NONE                    39177 non-null int64\n",
      "home_ownership_OTHER                   39177 non-null int64\n",
      "home_ownership_OWN                     39177 non-null int64\n",
      "home_ownership_RENT                    39177 non-null int64\n",
      "verification_status_Not Verified       39177 non-null int64\n",
      "verification_status_Source Verified    39177 non-null int64\n",
      "verification_status_Verified           39177 non-null int64\n",
      "purpose_car                            39177 non-null int64\n",
      "purpose_credit_card                    39177 non-null int64\n",
      "purpose_debt_consolidation             39177 non-null int64\n",
      "purpose_educational                    39177 non-null int64\n",
      "purpose_home_improvement               39177 non-null int64\n",
      "purpose_house                          39177 non-null int64\n",
      "purpose_major_purchase                 39177 non-null int64\n",
      "purpose_medical                        39177 non-null int64\n",
      "purpose_moving                         39177 non-null int64\n",
      "purpose_other                          39177 non-null int64\n",
      "purpose_renewable_energy               39177 non-null int64\n",
      "purpose_small_business                 39177 non-null int64\n",
      "purpose_vacation                       39177 non-null int64\n",
      "purpose_wedding                        39177 non-null int64\n",
      "term_ 36 months                        39177 non-null int64\n",
      "term_ 60 months                        39177 non-null int64\n",
      "dtypes: float64(12), int64(25)\n",
      "memory usage: 11.1 MB\n"
     ]
    }
   ],
   "source": [
    "data.info()"
   ]
  },
  {
   "cell_type": "code",
   "execution_count": 4,
   "metadata": {
    "collapsed": false
   },
   "outputs": [
    {
     "data": {
      "text/plain": [
       "1    0.856191\n",
       "0    0.143809\n",
       "Name: loan_status, dtype: float64"
      ]
     },
     "execution_count": 4,
     "metadata": {},
     "output_type": "execute_result"
    }
   ],
   "source": [
    "data.loan_status.value_counts(1)"
   ]
  },
  {
   "cell_type": "code",
   "execution_count": 5,
   "metadata": {
    "collapsed": false
   },
   "outputs": [
    {
     "data": {
      "text/html": [
       "<div>\n",
       "<table border=\"1\" class=\"dataframe\">\n",
       "  <thead>\n",
       "    <tr style=\"text-align: right;\">\n",
       "      <th></th>\n",
       "      <th>loan_amnt</th>\n",
       "      <th>installment</th>\n",
       "      <th>annual_inc</th>\n",
       "      <th>loan_status</th>\n",
       "      <th>dti</th>\n",
       "      <th>delinq_2yrs</th>\n",
       "      <th>inq_last_6mths</th>\n",
       "      <th>open_acc</th>\n",
       "      <th>pub_rec</th>\n",
       "      <th>revol_bal</th>\n",
       "      <th>...</th>\n",
       "      <th>purpose_major_purchase</th>\n",
       "      <th>purpose_medical</th>\n",
       "      <th>purpose_moving</th>\n",
       "      <th>purpose_other</th>\n",
       "      <th>purpose_renewable_energy</th>\n",
       "      <th>purpose_small_business</th>\n",
       "      <th>purpose_vacation</th>\n",
       "      <th>purpose_wedding</th>\n",
       "      <th>term_ 36 months</th>\n",
       "      <th>term_ 60 months</th>\n",
       "    </tr>\n",
       "  </thead>\n",
       "  <tbody>\n",
       "    <tr>\n",
       "      <th>0</th>\n",
       "      <td>5000.0</td>\n",
       "      <td>162.87</td>\n",
       "      <td>24000.0</td>\n",
       "      <td>1</td>\n",
       "      <td>27.65</td>\n",
       "      <td>0.0</td>\n",
       "      <td>1.0</td>\n",
       "      <td>3.0</td>\n",
       "      <td>0.0</td>\n",
       "      <td>13648.0</td>\n",
       "      <td>...</td>\n",
       "      <td>0</td>\n",
       "      <td>0</td>\n",
       "      <td>0</td>\n",
       "      <td>0</td>\n",
       "      <td>0</td>\n",
       "      <td>0</td>\n",
       "      <td>0</td>\n",
       "      <td>0</td>\n",
       "      <td>1</td>\n",
       "      <td>0</td>\n",
       "    </tr>\n",
       "    <tr>\n",
       "      <th>1</th>\n",
       "      <td>2500.0</td>\n",
       "      <td>59.83</td>\n",
       "      <td>30000.0</td>\n",
       "      <td>0</td>\n",
       "      <td>1.00</td>\n",
       "      <td>0.0</td>\n",
       "      <td>5.0</td>\n",
       "      <td>3.0</td>\n",
       "      <td>0.0</td>\n",
       "      <td>1687.0</td>\n",
       "      <td>...</td>\n",
       "      <td>0</td>\n",
       "      <td>0</td>\n",
       "      <td>0</td>\n",
       "      <td>0</td>\n",
       "      <td>0</td>\n",
       "      <td>0</td>\n",
       "      <td>0</td>\n",
       "      <td>0</td>\n",
       "      <td>0</td>\n",
       "      <td>1</td>\n",
       "    </tr>\n",
       "    <tr>\n",
       "      <th>2</th>\n",
       "      <td>2400.0</td>\n",
       "      <td>84.33</td>\n",
       "      <td>12252.0</td>\n",
       "      <td>1</td>\n",
       "      <td>8.72</td>\n",
       "      <td>0.0</td>\n",
       "      <td>2.0</td>\n",
       "      <td>2.0</td>\n",
       "      <td>0.0</td>\n",
       "      <td>2956.0</td>\n",
       "      <td>...</td>\n",
       "      <td>0</td>\n",
       "      <td>0</td>\n",
       "      <td>0</td>\n",
       "      <td>0</td>\n",
       "      <td>0</td>\n",
       "      <td>1</td>\n",
       "      <td>0</td>\n",
       "      <td>0</td>\n",
       "      <td>1</td>\n",
       "      <td>0</td>\n",
       "    </tr>\n",
       "    <tr>\n",
       "      <th>3</th>\n",
       "      <td>10000.0</td>\n",
       "      <td>339.31</td>\n",
       "      <td>49200.0</td>\n",
       "      <td>1</td>\n",
       "      <td>20.00</td>\n",
       "      <td>0.0</td>\n",
       "      <td>1.0</td>\n",
       "      <td>10.0</td>\n",
       "      <td>0.0</td>\n",
       "      <td>5598.0</td>\n",
       "      <td>...</td>\n",
       "      <td>0</td>\n",
       "      <td>0</td>\n",
       "      <td>0</td>\n",
       "      <td>1</td>\n",
       "      <td>0</td>\n",
       "      <td>0</td>\n",
       "      <td>0</td>\n",
       "      <td>0</td>\n",
       "      <td>1</td>\n",
       "      <td>0</td>\n",
       "    </tr>\n",
       "    <tr>\n",
       "      <th>4</th>\n",
       "      <td>5000.0</td>\n",
       "      <td>156.46</td>\n",
       "      <td>36000.0</td>\n",
       "      <td>1</td>\n",
       "      <td>11.20</td>\n",
       "      <td>0.0</td>\n",
       "      <td>3.0</td>\n",
       "      <td>9.0</td>\n",
       "      <td>0.0</td>\n",
       "      <td>7963.0</td>\n",
       "      <td>...</td>\n",
       "      <td>0</td>\n",
       "      <td>0</td>\n",
       "      <td>0</td>\n",
       "      <td>0</td>\n",
       "      <td>0</td>\n",
       "      <td>0</td>\n",
       "      <td>0</td>\n",
       "      <td>1</td>\n",
       "      <td>1</td>\n",
       "      <td>0</td>\n",
       "    </tr>\n",
       "  </tbody>\n",
       "</table>\n",
       "<p>5 rows × 37 columns</p>\n",
       "</div>"
      ],
      "text/plain": [
       "   loan_amnt  installment  annual_inc  loan_status    dti  delinq_2yrs  \\\n",
       "0     5000.0       162.87     24000.0            1  27.65          0.0   \n",
       "1     2500.0        59.83     30000.0            0   1.00          0.0   \n",
       "2     2400.0        84.33     12252.0            1   8.72          0.0   \n",
       "3    10000.0       339.31     49200.0            1  20.00          0.0   \n",
       "4     5000.0       156.46     36000.0            1  11.20          0.0   \n",
       "\n",
       "   inq_last_6mths  open_acc  pub_rec  revol_bal       ...         \\\n",
       "0             1.0       3.0      0.0    13648.0       ...          \n",
       "1             5.0       3.0      0.0     1687.0       ...          \n",
       "2             2.0       2.0      0.0     2956.0       ...          \n",
       "3             1.0      10.0      0.0     5598.0       ...          \n",
       "4             3.0       9.0      0.0     7963.0       ...          \n",
       "\n",
       "   purpose_major_purchase  purpose_medical  purpose_moving  purpose_other  \\\n",
       "0                       0                0               0              0   \n",
       "1                       0                0               0              0   \n",
       "2                       0                0               0              0   \n",
       "3                       0                0               0              1   \n",
       "4                       0                0               0              0   \n",
       "\n",
       "   purpose_renewable_energy  purpose_small_business  purpose_vacation  \\\n",
       "0                         0                       0                 0   \n",
       "1                         0                       0                 0   \n",
       "2                         0                       1                 0   \n",
       "3                         0                       0                 0   \n",
       "4                         0                       0                 0   \n",
       "\n",
       "   purpose_wedding  term_ 36 months  term_ 60 months  \n",
       "0                0                1                0  \n",
       "1                0                0                1  \n",
       "2                0                1                0  \n",
       "3                0                1                0  \n",
       "4                1                1                0  \n",
       "\n",
       "[5 rows x 37 columns]"
      ]
     },
     "execution_count": 5,
     "metadata": {},
     "output_type": "execute_result"
    }
   ],
   "source": [
    "data.head()"
   ]
  },
  {
   "cell_type": "code",
   "execution_count": 6,
   "metadata": {
    "collapsed": false
   },
   "outputs": [
    {
     "data": {
      "text/plain": [
       "loan_amnt                              float64\n",
       "installment                            float64\n",
       "annual_inc                             float64\n",
       "loan_status                              int64\n",
       "dti                                    float64\n",
       "delinq_2yrs                            float64\n",
       "inq_last_6mths                         float64\n",
       "open_acc                               float64\n",
       "pub_rec                                float64\n",
       "revol_bal                              float64\n",
       "revol_util                             float64\n",
       "total_acc                              float64\n",
       "fico_avg                               float64\n",
       "home_ownership_MORTGAGE                  int64\n",
       "home_ownership_NONE                      int64\n",
       "home_ownership_OTHER                     int64\n",
       "home_ownership_OWN                       int64\n",
       "home_ownership_RENT                      int64\n",
       "verification_status_Not Verified         int64\n",
       "verification_status_Source Verified      int64\n",
       "verification_status_Verified             int64\n",
       "purpose_car                              int64\n",
       "purpose_credit_card                      int64\n",
       "purpose_debt_consolidation               int64\n",
       "purpose_educational                      int64\n",
       "purpose_home_improvement                 int64\n",
       "purpose_house                            int64\n",
       "purpose_major_purchase                   int64\n",
       "purpose_medical                          int64\n",
       "purpose_moving                           int64\n",
       "purpose_other                            int64\n",
       "purpose_renewable_energy                 int64\n",
       "purpose_small_business                   int64\n",
       "purpose_vacation                         int64\n",
       "purpose_wedding                          int64\n",
       "term_ 36 months                          int64\n",
       "term_ 60 months                          int64\n",
       "dtype: object"
      ]
     },
     "execution_count": 6,
     "metadata": {},
     "output_type": "execute_result"
    }
   ],
   "source": [
    "# lets check the data types\n",
    "# We need to ensure that every cols must be in numberic form.\n",
    "data.dtypes"
   ]
  },
  {
   "cell_type": "markdown",
   "metadata": {},
   "source": [
    "# Train and Test Split"
   ]
  },
  {
   "cell_type": "code",
   "execution_count": 7,
   "metadata": {
    "collapsed": false
   },
   "outputs": [
    {
     "name": "stdout",
     "output_type": "stream",
     "text": [
      "(39177, 36)\n",
      "(39177,)\n"
     ]
    }
   ],
   "source": [
    "cols = data.columns\n",
    "features = cols.drop(\"loan_status\")\n",
    "X = data[features]\n",
    "y = data[\"loan_status\"]\n",
    "print(X.shape)\n",
    "print(y.shape)"
   ]
  },
  {
   "cell_type": "code",
   "execution_count": 8,
   "metadata": {
    "collapsed": false
   },
   "outputs": [
    {
     "name": "stdout",
     "output_type": "stream",
     "text": [
      "(29382, 36)\n",
      "(9795,)\n"
     ]
    },
    {
     "name": "stderr",
     "output_type": "stream",
     "text": [
      "/Users/Aniket/anaconda/lib/python3.5/site-packages/sklearn/cross_validation.py:44: DeprecationWarning: This module was deprecated in version 0.18 in favor of the model_selection module into which all the refactored classes and functions are moved. Also note that the interface of the new CV iterators are different from that of this module. This module will be removed in 0.20.\n",
      "  \"This module will be removed in 0.20.\", DeprecationWarning)\n"
     ]
    }
   ],
   "source": [
    "from sklearn.linear_model import LogisticRegression\n",
    "from sklearn.cross_validation import train_test_split\n",
    "from sklearn import metrics\n",
    "X_train, X_test, y_train, y_test = train_test_split(X, y, random_state =1)\n",
    "print(X_train.shape)\n",
    "print(y_test.shape)"
   ]
  },
  {
   "cell_type": "code",
   "execution_count": 9,
   "metadata": {
    "collapsed": false
   },
   "outputs": [
    {
     "data": {
      "text/plain": [
       "0.85186319550791223"
      ]
     },
     "execution_count": 9,
     "metadata": {},
     "output_type": "execute_result"
    }
   ],
   "source": [
    "# Lets apply logistic regression\n",
    "from sklearn.linear_model import LogisticRegression\n",
    "from sklearn.cross_validation import train_test_split \n",
    "log_reg = LogisticRegression()\n",
    "log_reg.fit(X_train, y_train)\n",
    "y_pred = log_reg.predict(X_test)\n",
    "metrics.accuracy_score(y_pred,y_test)"
   ]
  },
  {
   "cell_type": "code",
   "execution_count": 10,
   "metadata": {
    "collapsed": false
   },
   "outputs": [
    {
     "data": {
      "text/plain": [
       "array([[   0, 1451],\n",
       "       [   0, 8344]])"
      ]
     },
     "execution_count": 10,
     "metadata": {},
     "output_type": "execute_result"
    }
   ],
   "source": [
    "metrics.confusion_matrix(y_test, y_pred)"
   ]
  },
  {
   "cell_type": "markdown",
   "metadata": {},
   "source": [
    "# Accuracy here is 85 Percent with Normal train test split lets see in cross validation."
   ]
  },
  {
   "cell_type": "markdown",
   "metadata": {},
   "source": [
    "# Cross validation"
   ]
  },
  {
   "cell_type": "code",
   "execution_count": 11,
   "metadata": {
    "collapsed": false
   },
   "outputs": [],
   "source": [
    "from sklearn.cross_validation import cross_val_score, cross_val_predict"
   ]
  },
  {
   "cell_type": "code",
   "execution_count": 12,
   "metadata": {
    "collapsed": false
   },
   "outputs": [
    {
     "data": {
      "text/plain": [
       "0.85611458916281613"
      ]
     },
     "execution_count": 12,
     "metadata": {},
     "output_type": "execute_result"
    }
   ],
   "source": [
    "# cross validation we need full set of X and y\n",
    "log_reg = LogisticRegression()\n",
    "scores = cross_val_score(log_reg, X,y, cv = 10, scoring = \"accuracy\")\n",
    "scores.mean()"
   ]
  },
  {
   "cell_type": "markdown",
   "metadata": {},
   "source": [
    "# Cross validation Accuracy os 85 Percent same "
   ]
  },
  {
   "cell_type": "code",
   "execution_count": 13,
   "metadata": {
    "collapsed": false
   },
   "outputs": [
    {
     "data": {
      "text/plain": [
       "0.6534966819806024"
      ]
     },
     "execution_count": 13,
     "metadata": {},
     "output_type": "execute_result"
    }
   ],
   "source": [
    "# lets check with class balanced\n",
    "log_reg = LogisticRegression(class_weight=\"balanced\")\n",
    "log_reg.fit(X_train, y_train)\n",
    "y_pred = log_reg.predict(X_test)\n",
    "metrics.accuracy_score(y_pred,y_test)"
   ]
  },
  {
   "cell_type": "code",
   "execution_count": 14,
   "metadata": {
    "collapsed": false
   },
   "outputs": [
    {
     "name": "stdout",
     "output_type": "stream",
     "text": [
      "[[ 899 2842]\n",
      " [ 552 5502]]\n"
     ]
    }
   ],
   "source": [
    "print(metrics.confusion_matrix(y_pred, y_test))"
   ]
  },
  {
   "cell_type": "code",
   "execution_count": 15,
   "metadata": {
    "collapsed": false
   },
   "outputs": [
    {
     "name": "stdout",
     "output_type": "stream",
     "text": [
      "             precision    recall  f1-score   support\n",
      "\n",
      "          0       0.62      0.24      0.35      3741\n",
      "          1       0.66      0.91      0.76      6054\n",
      "\n",
      "avg / total       0.64      0.65      0.60      9795\n",
      "\n"
     ]
    }
   ],
   "source": [
    "print(metrics.classification_report(y_pred, y_test))"
   ]
  },
  {
   "cell_type": "code",
   "execution_count": 16,
   "metadata": {
    "collapsed": false
   },
   "outputs": [],
   "source": [
    "# define function to calculate the metric\n",
    "def compute_metric(predictions):\n",
    "    predictions = pd.Series(predictions)\n",
    "    # calculate False positive rate\n",
    "    fp_filter = (predictions== 1) & (data[\"loan_status\"]== 0)\n",
    "    fp = len(predictions[fp_filter])\n",
    "    \n",
    "    # calculate True Positive \n",
    "    tp_filter = (predictions == 1) & (data[\"loan_status\"]== 1)\n",
    "    tp = len(predictions[tp_filter])\n",
    "    \n",
    "    # calculte True Negative\n",
    "    tn_filter = (predictions == 0) & (data[\"loan_status\"]== 0)\n",
    "    tn = len(predictions[tn_filter])\n",
    "    \n",
    "    # False negative\n",
    "    fn_filter = (predictions== 0) & (data[\"loan_status\"]== 1)\n",
    "    fn = len(predictions[fn_filter])\n",
    "    \n",
    "    # rates \n",
    "    tpr = tp / (tp+fn)\n",
    "    fpr = fp / (fp+tn)\n",
    "    print(\"true_positive\", tp)\n",
    "    print(\"true_negative\", tn)\n",
    "    print(\"false_positive\", fp)\n",
    "    print(\"false_negative\", fn)\n",
    "    \n",
    "    print(\"true_positive_rate\", tpr*100)\n",
    "    print(\"false_positve_rate\", fpr*100)\n",
    "    \n",
    "    # other measurement\n",
    "    sp = tn / (tn + fp)\n",
    "    sty = tp / (tp + fn)\n",
    "    G_mean = np.sqrt(sp * sty)\n",
    "    prcn = tp / (tp + fp)\n",
    "    acc = (tn + tp) / (tp+tn+fp+fn)\n",
    "    \n",
    "    #method dict\n",
    "    method_dict = {'specificity': '{:.2f}'.format(sp*100), \n",
    "               'sensitivity': '{:.2f}'.format(sty*100), \n",
    "               'G-mean': '{:.2f}'.format(G_mean*100),\n",
    "               'precision': '{:.2f}'.format(prcn*100), \n",
    "               'accuracy': '{:.2f}'.format(acc*100),\n",
    "               'False Positive Rate': '{:.2f}'.format(fpr*100)\n",
    "        }\n",
    "    return pd.DataFrame(method_dict,index=[\"values\"])\n"
   ]
  },
  {
   "cell_type": "code",
   "execution_count": 17,
   "metadata": {
    "collapsed": false
   },
   "outputs": [
    {
     "name": "stdout",
     "output_type": "stream",
     "text": [
      "true_positive 33532\n",
      "true_negative 5\n",
      "false_positive 5629\n",
      "false_negative 11\n",
      "true_positive_rate 99.96720627254568\n",
      "false_positve_rate 99.91125310614129\n"
     ]
    },
    {
     "data": {
      "text/html": [
       "<div>\n",
       "<table border=\"1\" class=\"dataframe\">\n",
       "  <thead>\n",
       "    <tr style=\"text-align: right;\">\n",
       "      <th></th>\n",
       "      <th>False Positive Rate</th>\n",
       "      <th>G-mean</th>\n",
       "      <th>accuracy</th>\n",
       "      <th>precision</th>\n",
       "      <th>sensitivity</th>\n",
       "      <th>specificity</th>\n",
       "    </tr>\n",
       "  </thead>\n",
       "  <tbody>\n",
       "    <tr>\n",
       "      <th>values</th>\n",
       "      <td>99.91</td>\n",
       "      <td>2.98</td>\n",
       "      <td>85.60</td>\n",
       "      <td>85.63</td>\n",
       "      <td>99.97</td>\n",
       "      <td>0.09</td>\n",
       "    </tr>\n",
       "  </tbody>\n",
       "</table>\n",
       "</div>"
      ],
      "text/plain": [
       "       False Positive Rate G-mean accuracy precision sensitivity specificity\n",
       "values               99.91   2.98    85.60     85.63       99.97        0.09"
      ]
     },
     "execution_count": 17,
     "metadata": {},
     "output_type": "execute_result"
    }
   ],
   "source": [
    "log_reg = LogisticRegression()\n",
    "log_reg.fit(X, y)\n",
    "y_pred = cross_val_predict(log_reg, X, y, cv = 5)\n",
    "compute_metric(y_pred)"
   ]
  },
  {
   "cell_type": "code",
   "execution_count": 18,
   "metadata": {
    "collapsed": false
   },
   "outputs": [
    {
     "name": "stdout",
     "output_type": "stream",
     "text": [
      "true_positive 22691\n",
      "true_negative 3302\n",
      "false_positive 2332\n",
      "false_negative 10852\n",
      "true_positive_rate 67.64749724234565\n",
      "false_positve_rate 41.39155129570465\n"
     ]
    },
    {
     "data": {
      "text/html": [
       "<div>\n",
       "<table border=\"1\" class=\"dataframe\">\n",
       "  <thead>\n",
       "    <tr style=\"text-align: right;\">\n",
       "      <th></th>\n",
       "      <th>False Positive Rate</th>\n",
       "      <th>G-mean</th>\n",
       "      <th>accuracy</th>\n",
       "      <th>precision</th>\n",
       "      <th>sensitivity</th>\n",
       "      <th>specificity</th>\n",
       "    </tr>\n",
       "  </thead>\n",
       "  <tbody>\n",
       "    <tr>\n",
       "      <th>values</th>\n",
       "      <td>41.39</td>\n",
       "      <td>62.97</td>\n",
       "      <td>66.35</td>\n",
       "      <td>90.68</td>\n",
       "      <td>67.65</td>\n",
       "      <td>58.61</td>\n",
       "    </tr>\n",
       "  </tbody>\n",
       "</table>\n",
       "</div>"
      ],
      "text/plain": [
       "       False Positive Rate G-mean accuracy precision sensitivity specificity\n",
       "values               41.39  62.97    66.35     90.68       67.65       58.61"
      ]
     },
     "execution_count": 18,
     "metadata": {},
     "output_type": "execute_result"
    }
   ],
   "source": [
    "# lets balance the class\n",
    "log_reg = LogisticRegression(class_weight=\"balanced\")\n",
    "log_reg.fit(X, y)\n",
    "y_pred = cross_val_predict(log_reg, X, y, cv = 5)\n",
    "compute_metric(y_pred)"
   ]
  },
  {
   "cell_type": "code",
   "execution_count": 19,
   "metadata": {
    "collapsed": false
   },
   "outputs": [
    {
     "name": "stdout",
     "output_type": "stream",
     "text": [
      "             precision    recall  f1-score   support\n",
      "\n",
      "          0       0.59      0.23      0.33     14154\n",
      "          1       0.68      0.91      0.77     25023\n",
      "\n",
      "avg / total       0.64      0.66      0.62     39177\n",
      "\n"
     ]
    }
   ],
   "source": [
    "print(metrics.classification_report(y_pred, y))"
   ]
  },
  {
   "cell_type": "code",
   "execution_count": 20,
   "metadata": {
    "collapsed": false
   },
   "outputs": [
    {
     "data": {
      "text/plain": [
       "array([[ 3302, 10852],\n",
       "       [ 2332, 22691]])"
      ]
     },
     "execution_count": 20,
     "metadata": {},
     "output_type": "execute_result"
    }
   ],
   "source": [
    "# you can cross check with inbuild function.\n",
    "metrics.confusion_matrix(y_pred, y)"
   ]
  },
  {
   "cell_type": "code",
   "execution_count": 21,
   "metadata": {
    "collapsed": false
   },
   "outputs": [
    {
     "name": "stdout",
     "output_type": "stream",
     "text": [
      "true_positive 7606\n",
      "true_negative 4963\n",
      "false_positive 671\n",
      "false_negative 25937\n",
      "true_positive_rate 22.67537191068181\n",
      "false_positve_rate 11.909833155839546\n"
     ]
    },
    {
     "data": {
      "text/html": [
       "<div>\n",
       "<table border=\"1\" class=\"dataframe\">\n",
       "  <thead>\n",
       "    <tr style=\"text-align: right;\">\n",
       "      <th></th>\n",
       "      <th>False Positive Rate</th>\n",
       "      <th>G-mean</th>\n",
       "      <th>accuracy</th>\n",
       "      <th>precision</th>\n",
       "      <th>sensitivity</th>\n",
       "      <th>specificity</th>\n",
       "    </tr>\n",
       "  </thead>\n",
       "  <tbody>\n",
       "    <tr>\n",
       "      <th>values</th>\n",
       "      <td>11.91</td>\n",
       "      <td>44.69</td>\n",
       "      <td>32.08</td>\n",
       "      <td>91.89</td>\n",
       "      <td>22.68</td>\n",
       "      <td>88.09</td>\n",
       "    </tr>\n",
       "  </tbody>\n",
       "</table>\n",
       "</div>"
      ],
      "text/plain": [
       "       False Positive Rate G-mean accuracy precision sensitivity specificity\n",
       "values               11.91  44.69    32.08     91.89       22.68       88.09"
      ]
     },
     "execution_count": 21,
     "metadata": {},
     "output_type": "execute_result"
    }
   ],
   "source": [
    "# lets penalty for the misclassification rate\n",
    "penalty = {\n",
    "    0 : \"10\",\n",
    "    1 : \"1\"\n",
    "}\n",
    "# logistic regression\n",
    "log_reg = LogisticRegression(class_weight= penalty)\n",
    "log_reg.fit(X, y)\n",
    "y_pred = cross_val_predict(log_reg, X, y, cv = 5)\n",
    "compute_metric(y_pred)"
   ]
  },
  {
   "cell_type": "code",
   "execution_count": 22,
   "metadata": {
    "collapsed": false
   },
   "outputs": [
    {
     "data": {
      "text/plain": [
       "1    33543\n",
       "0     5634\n",
       "Name: loan_status, dtype: int64"
      ]
     },
     "execution_count": 22,
     "metadata": {},
     "output_type": "execute_result"
    }
   ],
   "source": [
    "data.loan_status.value_counts()"
   ]
  },
  {
   "cell_type": "markdown",
   "metadata": {},
   "source": [
    "* The above dictionary will impose a penalty of 10 for misclassifying a 0, \n",
    "* and a penalty of 1 for misclassifying a 1."
   ]
  },
  {
   "cell_type": "code",
   "execution_count": 23,
   "metadata": {
    "collapsed": false
   },
   "outputs": [
    {
     "name": "stderr",
     "output_type": "stream",
     "text": [
      "/Users/Aniket/anaconda/lib/python3.5/site-packages/sklearn/grid_search.py:43: DeprecationWarning: This module was deprecated in version 0.18 in favor of the model_selection module into which all the refactored classes and functions are moved. This module will be removed in 0.20.\n",
      "  DeprecationWarning)\n"
     ]
    }
   ],
   "source": [
    "# Determine the Best parameters\n",
    "from sklearn.pipeline import make_pipeline\n",
    "from sklearn.grid_search import GridSearchCV"
   ]
  },
  {
   "cell_type": "code",
   "execution_count": 24,
   "metadata": {
    "collapsed": false
   },
   "outputs": [],
   "source": [
    "penalty = {\n",
    "    0: \"11\",\n",
    "    1: \"1\"\n",
    "}\n",
    "penalty_options = [\"l1\", \"l2\"]\n",
    "C_range = 10.**np.arange(-2, 3)\n",
    "\n",
    "# make Pipeline\n",
    "pipe = make_pipeline(LogisticRegression(class_weight=penalty))\n",
    "param_grid = dict(\n",
    "    logisticregression__C=C_range,\n",
    "    logisticregression__penalty=penalty_options)"
   ]
  },
  {
   "cell_type": "code",
   "execution_count": 25,
   "metadata": {
    "collapsed": false
   },
   "outputs": [
    {
     "name": "stdout",
     "output_type": "stream",
     "text": [
      "CPU times: user 3 µs, sys: 0 ns, total: 3 µs\n",
      "Wall time: 5.96 µs\n"
     ]
    },
    {
     "data": {
      "text/plain": [
       "0.6927435178835846"
      ]
     },
     "execution_count": 25,
     "metadata": {},
     "output_type": "execute_result"
    }
   ],
   "source": [
    "# make Pipeline\n",
    "grid = GridSearchCV(pipe, param_grid, cv = 5, scoring=\"roc_auc\")\n",
    "grid.fit(X,y)\n",
    "%time grid.best_score_"
   ]
  },
  {
   "cell_type": "code",
   "execution_count": 26,
   "metadata": {
    "collapsed": false
   },
   "outputs": [
    {
     "name": "stdout",
     "output_type": "stream",
     "text": [
      "CPU times: user 4 µs, sys: 1 µs, total: 5 µs\n",
      "Wall time: 7.15 µs\n"
     ]
    },
    {
     "data": {
      "text/plain": [
       "{'logisticregression__C': 0.10000000000000001,\n",
       " 'logisticregression__penalty': 'l1'}"
      ]
     },
     "execution_count": 26,
     "metadata": {},
     "output_type": "execute_result"
    }
   ],
   "source": [
    "# grid best parameters\n",
    "% time grid.best_params_"
   ]
  },
  {
   "cell_type": "markdown",
   "metadata": {},
   "source": [
    "# determine the Feature Importance"
   ]
  },
  {
   "cell_type": "code",
   "execution_count": 27,
   "metadata": {
    "collapsed": false
   },
   "outputs": [],
   "source": [
    "from sklearn.ensemble import RandomForestClassifier, RandomForestRegressor\n",
    "feat = data.columns\n",
    "features = data.columns\n",
    "\n",
    "# randome forest \n",
    "rm = RandomForestClassifier(n_estimators=100,random_state=1)\n",
    "rm.fit(X,y)\n",
    "# feataure names\n",
    "feature_names = np.array([\" \".join([str(b),a]) for a, b in zip(features, range(len(features)))])"
   ]
  },
  {
   "cell_type": "code",
   "execution_count": 28,
   "metadata": {
    "collapsed": false
   },
   "outputs": [
    {
     "name": "stdout",
     "output_type": "stream",
     "text": [
      "['0 loan_amnt' '1 installment' '2 annual_inc' '3 loan_status' '4 dti'\n",
      " '5 delinq_2yrs' '6 inq_last_6mths' '7 open_acc' '8 pub_rec' '9 revol_bal'\n",
      " '10 revol_util' '11 total_acc' '12 fico_avg' '13 home_ownership_MORTGAGE'\n",
      " '14 home_ownership_NONE' '15 home_ownership_OTHER' '16 home_ownership_OWN'\n",
      " '17 home_ownership_RENT' '18 verification_status_Not Verified'\n",
      " '19 verification_status_Source Verified' '20 verification_status_Verified'\n",
      " '21 purpose_car' '22 purpose_credit_card' '23 purpose_debt_consolidation'\n",
      " '24 purpose_educational' '25 purpose_home_improvement' '26 purpose_house'\n",
      " '27 purpose_major_purchase' '28 purpose_medical' '29 purpose_moving'\n",
      " '30 purpose_other' '31 purpose_renewable_energy'\n",
      " '32 purpose_small_business' '33 purpose_vacation' '34 purpose_wedding'\n",
      " '35 term_ 36 months' '36 term_ 60 months']\n"
     ]
    }
   ],
   "source": [
    "print(feature_names)"
   ]
  },
  {
   "cell_type": "code",
   "execution_count": 29,
   "metadata": {
    "collapsed": false
   },
   "outputs": [],
   "source": [
    "# calculate importance\n",
    "importance = np.mean([tree.feature_importances_ for tree in rm.estimators_], axis =0)\n",
    "std = np.std([tree.feature_importances_ for tree in rm.estimators_], axis=0)\n",
    "indices = np.argsort(importance)\n",
    "range1 = range(len(importance))"
   ]
  },
  {
   "cell_type": "code",
   "execution_count": 30,
   "metadata": {
    "collapsed": false
   },
   "outputs": [],
   "source": [
    "# plot figure\n",
    "import matplotlib.pyplot as plt\n",
    "% matplotlib inline"
   ]
  },
  {
   "cell_type": "code",
   "execution_count": 31,
   "metadata": {
    "collapsed": false
   },
   "outputs": [
    {
     "data": {
      "image/png": "[encoded data removed]",
      "text/plain": [
       "<matplotlib.figure.Figure at 0x128937b38>"
      ]
     },
     "metadata": {},
     "output_type": "display_data"
    }
   ],
   "source": [
    "plt.figure(figsize=(10,5))\n",
    "plt.title(\"Random Forest Features Importance\")\n",
    "plt.barh(range1, importance[indices], color = \"r\", xerr = std[indices], alpha = 0.4, align = \"center\")\n",
    "plt.yticks(range1, feature_names[indices])\n",
    "plt.ylim([20, len(importance)],)\n",
    "plt.xlim([0.0, 0.12])\n",
    "plt.show()"
   ]
  },
  {
   "cell_type": "markdown",
   "metadata": {
    "collapsed": false
   },
   "source": [
    "# Partial Dependence graphs"
   ]
  },
  {
   "cell_type": "code",
   "execution_count": 32,
   "metadata": {
    "collapsed": false
   },
   "outputs": [
    {
     "data": {
      "image/png": "[encoded data removed]",
      "text/plain": [
       "<matplotlib.figure.Figure at 0x128ab0160>"
      ]
     },
     "metadata": {},
     "output_type": "display_data"
    },
    {
     "data": {
      "text/plain": [
       "<matplotlib.figure.Figure at 0x128b376d8>"
      ]
     },
     "metadata": {},
     "output_type": "display_data"
    }
   ],
   "source": [
    "### from sklearn.ensemble.partial_dependence import plot_partial_dependence\n",
    "from sklearn.ensemble import GradientBoostingClassifier, GradientBoostingRegressor\n",
    "from sklearn.ensemble.partial_dependence import plot_partial_dependence\n",
    "GBM = GradientBoostingRegressor(n_estimators=100, random_state=1)\n",
    "GBM.fit(X,y)\n",
    "feat = [9,8,3,2,1,10,0,11,6]\n",
    "fig, axis = plot_partial_dependence(GBM,X,feat,feature_names = feature_names,grid_resolution=200)\n",
    "plt.figure(figsize=(10,5))\n",
    "plt.show()"
   ]
  },
  {
   "cell_type": "code",
   "execution_count": 33,
   "metadata": {
    "collapsed": false
   },
   "outputs": [
    {
     "data": {
      "text/plain": [
       "Index(['loan_amnt', 'installment', 'annual_inc', 'loan_status', 'dti',\n",
       "       'delinq_2yrs', 'inq_last_6mths', 'open_acc', 'pub_rec', 'revol_bal',\n",
       "       'revol_util', 'total_acc', 'fico_avg', 'home_ownership_MORTGAGE',\n",
       "       'home_ownership_NONE', 'home_ownership_OTHER', 'home_ownership_OWN',\n",
       "       'home_ownership_RENT', 'verification_status_Not Verified',\n",
       "       'verification_status_Source Verified', 'verification_status_Verified',\n",
       "       'purpose_car', 'purpose_credit_card', 'purpose_debt_consolidation',\n",
       "       'purpose_educational', 'purpose_home_improvement', 'purpose_house',\n",
       "       'purpose_major_purchase', 'purpose_medical', 'purpose_moving',\n",
       "       'purpose_other', 'purpose_renewable_energy', 'purpose_small_business',\n",
       "       'purpose_vacation', 'purpose_wedding', 'term_ 36 months',\n",
       "       'term_ 60 months'],\n",
       "      dtype='object')"
      ]
     },
     "execution_count": 33,
     "metadata": {},
     "output_type": "execute_result"
    }
   ],
   "source": [
    "# lets use only top 4 features\n",
    "data.columns"
   ]
  },
  {
   "cell_type": "code",
   "execution_count": 34,
   "metadata": {
    "collapsed": true
   },
   "outputs": [],
   "source": [
    "cols = ['revol_bal', 'pub_rec', 'annual_inc' , 'installment', 'revol_util', 'loan_amnt']\n",
    "X = data[cols]\n",
    "y = data[\"loan_status\"]"
   ]
  },
  {
   "cell_type": "code",
   "execution_count": 35,
   "metadata": {
    "collapsed": false
   },
   "outputs": [
    {
     "name": "stdout",
     "output_type": "stream",
     "text": [
      "true_positive 20417\n",
      "true_negative 3245\n",
      "false_positive 2389\n",
      "false_negative 13126\n",
      "true_positive_rate 60.86813940315417\n",
      "false_positve_rate 42.403265885694005\n"
     ]
    },
    {
     "data": {
      "text/html": [
       "<div>\n",
       "<table border=\"1\" class=\"dataframe\">\n",
       "  <thead>\n",
       "    <tr style=\"text-align: right;\">\n",
       "      <th></th>\n",
       "      <th>False Positive Rate</th>\n",
       "      <th>G-mean</th>\n",
       "      <th>accuracy</th>\n",
       "      <th>precision</th>\n",
       "      <th>sensitivity</th>\n",
       "      <th>specificity</th>\n",
       "    </tr>\n",
       "  </thead>\n",
       "  <tbody>\n",
       "    <tr>\n",
       "      <th>values</th>\n",
       "      <td>42.40</td>\n",
       "      <td>59.21</td>\n",
       "      <td>60.40</td>\n",
       "      <td>89.52</td>\n",
       "      <td>60.87</td>\n",
       "      <td>57.60</td>\n",
       "    </tr>\n",
       "  </tbody>\n",
       "</table>\n",
       "</div>"
      ],
      "text/plain": [
       "       False Positive Rate G-mean accuracy precision sensitivity specificity\n",
       "values               42.40  59.21    60.40     89.52       60.87       57.60"
      ]
     },
     "execution_count": 35,
     "metadata": {},
     "output_type": "execute_result"
    }
   ],
   "source": [
    "penalty = {\n",
    "    0 : \"10\",\n",
    "    1 : \"1\"\n",
    "}\n",
    "# logistic regression\n",
    "log_reg = LogisticRegression(class_weight= \"balanced\", penalty=\"l1\")\n",
    "log_reg.fit(X, y)\n",
    "y_pred = cross_val_predict(log_reg, X, y, cv = 5)\n",
    "compute_metric(y_pred)"
   ]
  },
  {
   "cell_type": "code",
   "execution_count": 36,
   "metadata": {
    "collapsed": false
   },
   "outputs": [
    {
     "name": "stdout",
     "output_type": "stream",
     "text": [
      "true_positive 32506\n",
      "true_negative 329\n",
      "false_positive 5305\n",
      "false_negative 1037\n",
      "true_positive_rate 96.90844587544346\n",
      "false_positve_rate 94.16045438409655\n"
     ]
    },
    {
     "data": {
      "text/html": [
       "<div>\n",
       "<table border=\"1\" class=\"dataframe\">\n",
       "  <thead>\n",
       "    <tr style=\"text-align: right;\">\n",
       "      <th></th>\n",
       "      <th>False Positive Rate</th>\n",
       "      <th>G-mean</th>\n",
       "      <th>accuracy</th>\n",
       "      <th>precision</th>\n",
       "      <th>sensitivity</th>\n",
       "      <th>specificity</th>\n",
       "    </tr>\n",
       "  </thead>\n",
       "  <tbody>\n",
       "    <tr>\n",
       "      <th>values</th>\n",
       "      <td>94.16</td>\n",
       "      <td>23.79</td>\n",
       "      <td>83.81</td>\n",
       "      <td>85.97</td>\n",
       "      <td>96.91</td>\n",
       "      <td>5.84</td>\n",
       "    </tr>\n",
       "  </tbody>\n",
       "</table>\n",
       "</div>"
      ],
      "text/plain": [
       "       False Positive Rate G-mean accuracy precision sensitivity specificity\n",
       "values               94.16  23.79    83.81     85.97       96.91        5.84"
      ]
     },
     "execution_count": 36,
     "metadata": {},
     "output_type": "execute_result"
    }
   ],
   "source": [
    "# Lets use Random Forest classifer\n",
    "penalty = { 0: \"10\",\n",
    "            1: \"1\"}\n",
    "\n",
    "Rf = RandomForestClassifier(class_weight= penalty)\n",
    "Rf.fit(X,y)\n",
    "y_pred = cross_val_predict(Rf, X, y, cv = 5)\n",
    "compute_metric(y_pred)"
   ]
  },
  {
   "cell_type": "code",
   "execution_count": 37,
   "metadata": {
    "collapsed": false
   },
   "outputs": [],
   "source": [
    "X = data[[\"fico_avg\"]]\n",
    "y = data[\"loan_status\"]"
   ]
  },
  {
   "cell_type": "code",
   "execution_count": 38,
   "metadata": {
    "collapsed": false
   },
   "outputs": [
    {
     "name": "stdout",
     "output_type": "stream",
     "text": [
      "true_positive 2678\n",
      "true_negative 5465\n",
      "false_positive 169\n",
      "false_negative 30865\n",
      "true_positive_rate 7.983782011149867\n",
      "false_positve_rate 2.9996450124245655\n"
     ]
    },
    {
     "data": {
      "text/html": [
       "<div>\n",
       "<table border=\"1\" class=\"dataframe\">\n",
       "  <thead>\n",
       "    <tr style=\"text-align: right;\">\n",
       "      <th></th>\n",
       "      <th>False Positive Rate</th>\n",
       "      <th>G-mean</th>\n",
       "      <th>accuracy</th>\n",
       "      <th>precision</th>\n",
       "      <th>sensitivity</th>\n",
       "      <th>specificity</th>\n",
       "    </tr>\n",
       "  </thead>\n",
       "  <tbody>\n",
       "    <tr>\n",
       "      <th>values</th>\n",
       "      <td>3.00</td>\n",
       "      <td>27.83</td>\n",
       "      <td>20.79</td>\n",
       "      <td>94.06</td>\n",
       "      <td>7.98</td>\n",
       "      <td>97.00</td>\n",
       "    </tr>\n",
       "  </tbody>\n",
       "</table>\n",
       "</div>"
      ],
      "text/plain": [
       "       False Positive Rate G-mean accuracy precision sensitivity specificity\n",
       "values                3.00  27.83    20.79     94.06        7.98       97.00"
      ]
     },
     "execution_count": 38,
     "metadata": {},
     "output_type": "execute_result"
    }
   ],
   "source": [
    "penalty = { 0: \"12\",\n",
    "            1: \"1\"}\n",
    "\n",
    "log_reg = LogisticRegression(class_weight= penalty, C=10)\n",
    "log_reg.fit(X, y)\n",
    "y_pred = cross_val_predict(log_reg, X, y, cv = 5)\n",
    "compute_metric(y_pred)"
   ]
  },
  {
   "cell_type": "code",
   "execution_count": 39,
   "metadata": {
    "collapsed": false
   },
   "outputs": [
    {
     "data": {
      "text/html": [
       "<div>\n",
       "<table border=\"1\" class=\"dataframe\">\n",
       "  <thead>\n",
       "    <tr style=\"text-align: right;\">\n",
       "      <th></th>\n",
       "      <th>loan_amnt</th>\n",
       "      <th>term</th>\n",
       "      <th>installment</th>\n",
       "      <th>grade</th>\n",
       "      <th>emp_length</th>\n",
       "      <th>home_ownership</th>\n",
       "      <th>annual_inc</th>\n",
       "      <th>verification_status</th>\n",
       "      <th>loan_status</th>\n",
       "      <th>pymnt_plan</th>\n",
       "      <th>...</th>\n",
       "      <th>last_fico_range_high</th>\n",
       "      <th>last_fico_range_low</th>\n",
       "      <th>collections_12_mths_ex_med</th>\n",
       "      <th>policy_code</th>\n",
       "      <th>application_type</th>\n",
       "      <th>acc_now_delinq</th>\n",
       "      <th>chargeoff_within_12_mths</th>\n",
       "      <th>delinq_amnt</th>\n",
       "      <th>pub_rec_bankruptcies</th>\n",
       "      <th>tax_liens</th>\n",
       "    </tr>\n",
       "  </thead>\n",
       "  <tbody>\n",
       "    <tr>\n",
       "      <th>0</th>\n",
       "      <td>5000.0</td>\n",
       "      <td>36 months</td>\n",
       "      <td>162.87</td>\n",
       "      <td>B</td>\n",
       "      <td>10+ years</td>\n",
       "      <td>RENT</td>\n",
       "      <td>24000.0</td>\n",
       "      <td>Verified</td>\n",
       "      <td>Fully Paid</td>\n",
       "      <td>n</td>\n",
       "      <td>...</td>\n",
       "      <td>744.0</td>\n",
       "      <td>740.0</td>\n",
       "      <td>0.0</td>\n",
       "      <td>1.0</td>\n",
       "      <td>INDIVIDUAL</td>\n",
       "      <td>0.0</td>\n",
       "      <td>0.0</td>\n",
       "      <td>0.0</td>\n",
       "      <td>0.0</td>\n",
       "      <td>0.0</td>\n",
       "    </tr>\n",
       "    <tr>\n",
       "      <th>1</th>\n",
       "      <td>2500.0</td>\n",
       "      <td>60 months</td>\n",
       "      <td>59.83</td>\n",
       "      <td>C</td>\n",
       "      <td>&lt; 1 year</td>\n",
       "      <td>RENT</td>\n",
       "      <td>30000.0</td>\n",
       "      <td>Source Verified</td>\n",
       "      <td>Charged Off</td>\n",
       "      <td>n</td>\n",
       "      <td>...</td>\n",
       "      <td>499.0</td>\n",
       "      <td>0.0</td>\n",
       "      <td>0.0</td>\n",
       "      <td>1.0</td>\n",
       "      <td>INDIVIDUAL</td>\n",
       "      <td>0.0</td>\n",
       "      <td>0.0</td>\n",
       "      <td>0.0</td>\n",
       "      <td>0.0</td>\n",
       "      <td>0.0</td>\n",
       "    </tr>\n",
       "    <tr>\n",
       "      <th>2</th>\n",
       "      <td>2400.0</td>\n",
       "      <td>36 months</td>\n",
       "      <td>84.33</td>\n",
       "      <td>C</td>\n",
       "      <td>10+ years</td>\n",
       "      <td>RENT</td>\n",
       "      <td>12252.0</td>\n",
       "      <td>Not Verified</td>\n",
       "      <td>Fully Paid</td>\n",
       "      <td>n</td>\n",
       "      <td>...</td>\n",
       "      <td>719.0</td>\n",
       "      <td>715.0</td>\n",
       "      <td>0.0</td>\n",
       "      <td>1.0</td>\n",
       "      <td>INDIVIDUAL</td>\n",
       "      <td>0.0</td>\n",
       "      <td>0.0</td>\n",
       "      <td>0.0</td>\n",
       "      <td>0.0</td>\n",
       "      <td>0.0</td>\n",
       "    </tr>\n",
       "    <tr>\n",
       "      <th>3</th>\n",
       "      <td>10000.0</td>\n",
       "      <td>36 months</td>\n",
       "      <td>339.31</td>\n",
       "      <td>C</td>\n",
       "      <td>10+ years</td>\n",
       "      <td>RENT</td>\n",
       "      <td>49200.0</td>\n",
       "      <td>Source Verified</td>\n",
       "      <td>Fully Paid</td>\n",
       "      <td>n</td>\n",
       "      <td>...</td>\n",
       "      <td>604.0</td>\n",
       "      <td>600.0</td>\n",
       "      <td>0.0</td>\n",
       "      <td>1.0</td>\n",
       "      <td>INDIVIDUAL</td>\n",
       "      <td>0.0</td>\n",
       "      <td>0.0</td>\n",
       "      <td>0.0</td>\n",
       "      <td>0.0</td>\n",
       "      <td>0.0</td>\n",
       "    </tr>\n",
       "    <tr>\n",
       "      <th>4</th>\n",
       "      <td>3000.0</td>\n",
       "      <td>60 months</td>\n",
       "      <td>67.79</td>\n",
       "      <td>B</td>\n",
       "      <td>1 year</td>\n",
       "      <td>RENT</td>\n",
       "      <td>80000.0</td>\n",
       "      <td>Source Verified</td>\n",
       "      <td>Current</td>\n",
       "      <td>n</td>\n",
       "      <td>...</td>\n",
       "      <td>694.0</td>\n",
       "      <td>690.0</td>\n",
       "      <td>0.0</td>\n",
       "      <td>1.0</td>\n",
       "      <td>INDIVIDUAL</td>\n",
       "      <td>0.0</td>\n",
       "      <td>0.0</td>\n",
       "      <td>0.0</td>\n",
       "      <td>0.0</td>\n",
       "      <td>0.0</td>\n",
       "    </tr>\n",
       "  </tbody>\n",
       "</table>\n",
       "<p>5 rows × 36 columns</p>\n",
       "</div>"
      ],
      "text/plain": [
       "   loan_amnt        term  installment grade emp_length home_ownership  \\\n",
       "0     5000.0   36 months       162.87     B  10+ years           RENT   \n",
       "1     2500.0   60 months        59.83     C   < 1 year           RENT   \n",
       "2     2400.0   36 months        84.33     C  10+ years           RENT   \n",
       "3    10000.0   36 months       339.31     C  10+ years           RENT   \n",
       "4     3000.0   60 months        67.79     B     1 year           RENT   \n",
       "\n",
       "   annual_inc verification_status  loan_status pymnt_plan    ...      \\\n",
       "0     24000.0            Verified   Fully Paid          n    ...       \n",
       "1     30000.0     Source Verified  Charged Off          n    ...       \n",
       "2     12252.0        Not Verified   Fully Paid          n    ...       \n",
       "3     49200.0     Source Verified   Fully Paid          n    ...       \n",
       "4     80000.0     Source Verified      Current          n    ...       \n",
       "\n",
       "  last_fico_range_high last_fico_range_low collections_12_mths_ex_med  \\\n",
       "0                744.0               740.0                        0.0   \n",
       "1                499.0                 0.0                        0.0   \n",
       "2                719.0               715.0                        0.0   \n",
       "3                604.0               600.0                        0.0   \n",
       "4                694.0               690.0                        0.0   \n",
       "\n",
       "   policy_code  application_type acc_now_delinq  chargeoff_within_12_mths  \\\n",
       "0          1.0        INDIVIDUAL            0.0                       0.0   \n",
       "1          1.0        INDIVIDUAL            0.0                       0.0   \n",
       "2          1.0        INDIVIDUAL            0.0                       0.0   \n",
       "3          1.0        INDIVIDUAL            0.0                       0.0   \n",
       "4          1.0        INDIVIDUAL            0.0                       0.0   \n",
       "\n",
       "   delinq_amnt  pub_rec_bankruptcies  tax_liens  \n",
       "0          0.0                   0.0        0.0  \n",
       "1          0.0                   0.0        0.0  \n",
       "2          0.0                   0.0        0.0  \n",
       "3          0.0                   0.0        0.0  \n",
       "4          0.0                   0.0        0.0  \n",
       "\n",
       "[5 rows x 36 columns]"
      ]
     },
     "execution_count": 39,
     "metadata": {},
     "output_type": "execute_result"
    }
   ],
   "source": [
    "final = pd.read_csv(\"final\")\n",
    "final.head()"
   ]
  },
  {
   "cell_type": "code",
   "execution_count": 40,
   "metadata": {
    "collapsed": false
   },
   "outputs": [],
   "source": [
    "# Final "
   ]
  },
  {
   "cell_type": "code",
   "execution_count": 41,
   "metadata": {
    "collapsed": false
   },
   "outputs": [],
   "source": [
    "final = final[(final[\"loan_status\"] == \"Fully Paid\") | (final[\"loan_status\"] == \"Charged Off\")]"
   ]
  },
  {
   "cell_type": "code",
   "execution_count": 42,
   "metadata": {
    "collapsed": false
   },
   "outputs": [],
   "source": [
    "final[\"loan_status\"] = final.loan_status.str.contains(\"Fully Paid\").astype(int)"
   ]
  },
  {
   "cell_type": "code",
   "execution_count": 43,
   "metadata": {
    "collapsed": false
   },
   "outputs": [
    {
     "data": {
      "text/plain": [
       "1    33586\n",
       "0     5653\n",
       "Name: loan_status, dtype: int64"
      ]
     },
     "execution_count": 43,
     "metadata": {},
     "output_type": "execute_result"
    }
   ],
   "source": [
    "final.loan_status.value_counts()"
   ]
  },
  {
   "cell_type": "code",
   "execution_count": 44,
   "metadata": {
    "collapsed": false
   },
   "outputs": [
    {
     "name": "stdout",
     "output_type": "stream",
     "text": [
      "(39239, 4)\n",
      "(39239,)\n"
     ]
    }
   ],
   "source": [
    "feat = [\"last_fico_range_high\", \"annual_inc\",\"total_acc\", \"loan_amnt\",]\n",
    "X = final[feat]\n",
    "y = final[\"loan_status\"]\n",
    "print(X.shape)\n",
    "print(y.shape)"
   ]
  },
  {
   "cell_type": "code",
   "execution_count": 45,
   "metadata": {
    "collapsed": false
   },
   "outputs": [
    {
     "data": {
      "text/plain": [
       "sklearn.cross_validation.KFold(n=39239, n_folds=3, shuffle=False, random_state=1)"
      ]
     },
     "execution_count": 45,
     "metadata": {},
     "output_type": "execute_result"
    }
   ],
   "source": [
    "from sklearn.cross_validation import KFold\n",
    "kf = KFold(X.shape[0], random_state =1)\n",
    "kf"
   ]
  },
  {
   "cell_type": "code",
   "execution_count": 51,
   "metadata": {
    "collapsed": false
   },
   "outputs": [
    {
     "name": "stdout",
     "output_type": "stream",
     "text": [
      "true_positive 21569\n",
      "true_negative 2409\n",
      "false_positive 3225\n",
      "false_negative 11974\n",
      "true_positive_rate 64.30253704200578\n",
      "false_positve_rate 57.24174653887114\n"
     ]
    },
    {
     "data": {
      "text/html": [
       "<div>\n",
       "<table border=\"1\" class=\"dataframe\">\n",
       "  <thead>\n",
       "    <tr style=\"text-align: right;\">\n",
       "      <th></th>\n",
       "      <th>False Positive Rate</th>\n",
       "      <th>G-mean</th>\n",
       "      <th>accuracy</th>\n",
       "      <th>precision</th>\n",
       "      <th>sensitivity</th>\n",
       "      <th>specificity</th>\n",
       "    </tr>\n",
       "  </thead>\n",
       "  <tbody>\n",
       "    <tr>\n",
       "      <th>values</th>\n",
       "      <td>57.24</td>\n",
       "      <td>52.44</td>\n",
       "      <td>61.20</td>\n",
       "      <td>86.99</td>\n",
       "      <td>64.30</td>\n",
       "      <td>42.76</td>\n",
       "    </tr>\n",
       "  </tbody>\n",
       "</table>\n",
       "</div>"
      ],
      "text/plain": [
       "       False Positive Rate G-mean accuracy precision sensitivity specificity\n",
       "values               57.24  52.44    61.20     86.99       64.30       42.76"
      ]
     },
     "execution_count": 51,
     "metadata": {},
     "output_type": "execute_result"
    }
   ],
   "source": [
    "penalty = { 0: \"12\",\n",
    "            1: \"1\"}\n",
    "\n",
    "log_reg = LogisticRegression(class_weight=penalty, C=10.0, penalty=\"l1\")\n",
    "log_reg.fit(X, y)\n",
    "y_pred = cross_val_predict(log_reg, X, y, cv = kf)\n",
    "compute_metric(y_pred)"
   ]
  },
  {
   "cell_type": "code",
   "execution_count": null,
   "metadata": {
    "collapsed": true
   },
   "outputs": [],
   "source": []
  }
 ],
 "metadata": {
  "anaconda-cloud": {},
  "kernelspec": {
   "display_name": "Python [Root]",
   "language": "python",
   "name": "Python [Root]"
  },
  "language_info": {
   "codemirror_mode": {
    "name": "ipython",
    "version": 3
   },
   "file_extension": ".py",
   "mimetype": "text/x-python",
   "name": "python",
   "nbconvert_exporter": "python",
   "pygments_lexer": "ipython3",
   "version": "3.5.3"
  }
 },
 "nbformat": 4,
 "nbformat_minor": 0
}
